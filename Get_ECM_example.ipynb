{
 "cells": [
  {
   "cell_type": "code",
   "execution_count": 1,
   "metadata": {},
   "outputs": [],
   "source": [
    "import json\n",
    "from PIL import Image"
   ]
  },
  {
   "cell_type": "markdown",
   "metadata": {},
   "source": [
    "# Save ECM examples by executing the following"
   ]
  },
  {
   "cell_type": "code",
   "execution_count": null,
   "metadata": {},
   "outputs": [],
   "source": [
    "!bash get_example.sh"
   ]
  },
  {
   "cell_type": "markdown",
   "metadata": {},
   "source": [
    "# Load ECM examples"
   ]
  },
  {
   "cell_type": "code",
   "execution_count": 4,
   "metadata": {},
   "outputs": [],
   "source": [
    "ECM_example_path = './output/ECM_example'\n",
    "with open(ECM_example_path + '/wrtimg.json') as f:\n",
    "    wrtimg = json.load(f)\n",
    "with open(ECM_example_path + '/wrttxt.json') as f:\n",
    "    wrttxt = json.load(f)"
   ]
  },
  {
   "cell_type": "markdown",
   "metadata": {},
   "source": [
    "# Check ECM examples with respect to Image"
   ]
  },
  {
   "cell_type": "code",
   "execution_count": null,
   "metadata": {},
   "outputs": [],
   "source": [
    "for item in wrtimg:\n",
    "    path = item[0]\n",
    "    print(f'Anchor Image :')\n",
    "    img = Image.open(path).convert('RGB')\n",
    "    img.show()\n",
    "    print(f'Original Positive : {item[1]}')\n",
    "    print(f'New Positive connection : {item[2]}')"
   ]
  },
  {
   "cell_type": "markdown",
   "metadata": {},
   "source": [
    "# Check ECM examples with respect to Text"
   ]
  },
  {
   "cell_type": "code",
   "execution_count": null,
   "metadata": {},
   "outputs": [],
   "source": [
    "for item in wrttxt:\n",
    "    achor_txt = item[0]\n",
    "    print(f'Anchor Text : {achor_txt}')\n",
    "    print(f'Original Positive : ')\n",
    "    path = item[1]\n",
    "    img = Image.open(path).convert('RGB')\n",
    "    img.show()\n",
    "    print(f'New Positive connection : ')\n",
    "    path = item[2]\n",
    "    img = Image.open(path).convert('RGB')\n",
    "    img.show()\n"
   ]
  },
  {
   "cell_type": "code",
   "execution_count": null,
   "metadata": {},
   "outputs": [],
   "source": []
  },
  {
   "cell_type": "code",
   "execution_count": null,
   "metadata": {},
   "outputs": [],
   "source": []
  }
 ],
 "metadata": {
  "kernelspec": {
   "display_name": "gms",
   "language": "python",
   "name": "python3"
  },
  "language_info": {
   "codemirror_mode": {
    "name": "ipython",
    "version": 3
   },
   "file_extension": ".py",
   "mimetype": "text/x-python",
   "name": "python",
   "nbconvert_exporter": "python",
   "pygments_lexer": "ipython3",
   "version": "3.8.undefined"
  }
 },
 "nbformat": 4,
 "nbformat_minor": 2
}
